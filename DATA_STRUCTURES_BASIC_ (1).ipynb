{
  "nbformat": 4,
  "nbformat_minor": 0,
  "metadata": {
    "colab": {
      "provenance": [],
      "toc_visible": true
    },
    "kernelspec": {
      "name": "python3",
      "display_name": "Python 3"
    },
    "language_info": {
      "name": "python"
    }
  },
  "cells": [
    {
      "cell_type": "code",
      "execution_count": null,
      "metadata": {
        "id": "0N7rELSr9EmH"
      },
      "outputs": [],
      "source": []
    },
    {
      "cell_type": "markdown",
      "source": [
        "#** DATA STRUCTURES **\n",
        "1. What are data structures, and why are they important?\n",
        "\n",
        "-Data structures are specialized formats for organizing, storing, and managing data in a computer so that it can be used efficiently. They provide a way to handle data in a structured manner, enabling efficient access, modification, and operations. Common data structures include lists, tuples, dictionaries, sets, and strings in Python.\n",
        "\n",
        "They are important :\n",
        "Efficiency: They allow for efficient data access and manipulation, reducing time and space complexity.\n",
        "\n",
        "Organization: They help in organizing data logically, making it easier to understand and work with.\n",
        "\n",
        "Reusability: Data structures provide reusable solutions to common problems, such as searching, sorting, and storing data.\n",
        "\n",
        "Scalability: They enable handling large datasets effectively.\n",
        "\n",
        "\n",
        "2. Explain the difference between mutable and immutable data types with examples?\n",
        "-Mutable: Data types that can be modified after creation. Examples include lists, dictionaries, and sets.\n",
        "\n"
      ],
      "metadata": {
        "id": "ygif7qZmdSNK"
      }
    },
    {
      "cell_type": "code",
      "source": [
        "my_list = [1, 2, 3]\n",
        "my_list[0] = 10  # Modifying the list\n",
        "print(my_list)   # Output: [10, 2, 3]"
      ],
      "metadata": {
        "colab": {
          "base_uri": "https://localhost:8080/"
        },
        "id": "oqSlXQr_f18v",
        "outputId": "48594e23-b6dd-423b-b315-a39a3852ca1f"
      },
      "execution_count": null,
      "outputs": [
        {
          "output_type": "stream",
          "name": "stdout",
          "text": [
            "[10, 2, 3]\n"
          ]
        }
      ]
    },
    {
      "cell_type": "markdown",
      "source": [
        "Immutable: Data types that cannot be modified after creation.\n"
      ],
      "metadata": {
        "id": "ngK5Ac5VhNiC"
      }
    },
    {
      "cell_type": "code",
      "source": [
        "my_string = \"hello\"\n",
        "# my_string[0] = \"H\"  # This will raise an error\n",
        "new_string = my_string.replace(\"h\", \"H\")  # Creates a new string\n",
        "print(new_string)  # Output: \"Hello\"\n"
      ],
      "metadata": {
        "colab": {
          "base_uri": "https://localhost:8080/"
        },
        "id": "MitW7aGChUO3",
        "outputId": "fa6dfcff-3239-4d84-df6e-fe6a7fb63127"
      },
      "execution_count": null,
      "outputs": [
        {
          "output_type": "stream",
          "name": "stdout",
          "text": [
            "Hello\n"
          ]
        }
      ]
    },
    {
      "cell_type": "markdown",
      "source": [
        "3. What are the main differences between lists and tuples in Python?\n",
        "-Lists vs. Tuples in Python\n",
        "Feature\tLists\tTuples\n",
        "Mutability\tMutable (can be modified)\tImmutable (cannot be modified)\n",
        "Syntax\tDefined with square brackets []\tDefined with parentheses ()\n",
        "Use Case\tFor dynamic data\tFor fixed, unchanging data\n",
        "Performance\tSlightly slower\tFaster due to immutability.\n",
        "\n",
        "4.Describe how dictionaries store data?\n",
        "Dictionaries store data as key-value pairs. Each key is unique and maps to a value. Internally, dictionaries use a hash table to store and retrieve data efficiently.\n",
        "\n",
        "\n"
      ],
      "metadata": {
        "id": "dw3Rss6WijNl"
      }
    },
    {
      "cell_type": "code",
      "source": [
        "my_dict = {\"name\": \"Alice\", \"age\": 25}\n",
        "print(my_dict[\"name\"])  # Output: \"Alice\""
      ],
      "metadata": {
        "colab": {
          "base_uri": "https://localhost:8080/"
        },
        "id": "1FEjJnspjRuw",
        "outputId": "77b124e7-5b48-413c-8fce-85ea96ad3115"
      },
      "execution_count": null,
      "outputs": [
        {
          "output_type": "stream",
          "name": "stdout",
          "text": [
            "Alice\n"
          ]
        }
      ]
    },
    {
      "cell_type": "markdown",
      "source": [
        "5.Why might you use a set instead of a list in Python?\n",
        "Sets are used when you need to store unique elements and perform operations like union, intersection, or difference.\n",
        "\n",
        "They are faster for checking membership (in keyword) compared to lists.\n"
      ],
      "metadata": {
        "id": "H9zGqeaMjbfv"
      }
    },
    {
      "cell_type": "markdown",
      "source": [],
      "metadata": {
        "id": "hhtrjMh5j7vZ"
      }
    },
    {
      "cell_type": "code",
      "source": [
        "my_set = {1, 2, 3, 3}  # Duplicates are automatically removed\n",
        "print(my_set)  # Output: {1, 2, 3}\n"
      ],
      "metadata": {
        "id": "LLAF8I5ij8Iq"
      },
      "execution_count": null,
      "outputs": []
    },
    {
      "cell_type": "markdown",
      "source": [
        "6.What is a string in Python, and how is it different from a list?\n",
        "-Strings are sequences of characters and are immutable.\n",
        "\n",
        "Lists are sequences of any data type and are mutable."
      ],
      "metadata": {
        "id": "BG2tv4xkkVPp"
      }
    },
    {
      "cell_type": "code",
      "source": [
        "my_string = \"hello\"\n",
        "my_list = [\"h\", \"e\", \"l\", \"l\", \"o\"]"
      ],
      "metadata": {
        "id": "rKch7WRbkmxj"
      },
      "execution_count": null,
      "outputs": []
    },
    {
      "cell_type": "markdown",
      "source": [],
      "metadata": {
        "id": "R_5qljZkj96p"
      }
    },
    {
      "cell_type": "markdown",
      "source": [
        "7.How do tuples ensure data integrity in Python?\n",
        "-Tuples are immutable, meaning their elements cannot be changed after creation. This ensures that the data remains consistent and unaltered, which is useful for storing fixed values like coordinates or configurations.\n"
      ],
      "metadata": {
        "id": "UN6TkbAAk3fo"
      }
    },
    {
      "cell_type": "code",
      "source": [
        "coordinates = (10, 20)\n",
        "# coordinates[0] = 15  # This will raise an error"
      ],
      "metadata": {
        "id": "R9BfpXRqlyTS"
      },
      "execution_count": null,
      "outputs": []
    },
    {
      "cell_type": "markdown",
      "source": [
        "8.What is a hash table, and how does it relate to dictionaries in Python?\n",
        "A hash table is a data structure that maps keys to values using a hash function. Dictionaries in Python are implemented using hash tables, allowing for fast lookups, insertions, and deletions.\n",
        "\n",
        "\n",
        "9.Can lists contain different data types in Python?\n",
        "Yes, lists in Python can contain elements of different data types."
      ],
      "metadata": {
        "id": "qkaXJVVplzuY"
      }
    },
    {
      "cell_type": "code",
      "source": [
        "my_list = [1, \"hello\", 3.14, True]\n",
        "\n"
      ],
      "metadata": {
        "id": "g4MetavWmsjE"
      },
      "execution_count": null,
      "outputs": []
    },
    {
      "cell_type": "markdown",
      "source": [
        "10. P Explain why strings are immutable in Python?\n",
        "-Strings are immutable to ensure security (e.g., preventing unintended changes) and optimization (e.g., allowing string interning and reuse).\n",
        "Security: Immutability provides a level of security. Since strings cannot be changed in-place, you can be confident that a string's value won't be unintentionally modified by another part of your code. This is especially important when strings are used as keys in dictionaries or elements in sets.\n",
        "\n",
        "Performance: Immutability allows for certain optimizations, like string interning. Python can store only one copy of each distinct string in memory, and multiple variables can refer to the same string object. This saves memory and improves performance.\n",
        "\n",
        "Hashing: Strings are often used as keys in dictionaries, and hashing is crucial for efficient dictionary operations. Immutable strings ensure that their hash value remains constant, preventing inconsistencies in dictionary lookups.\n",
        "\n",
        "Thread safety: In multi-threaded environments, immutable strings can be shared safely between threads without the risk of data corruption. Since strings can't be changed, there's no need for locks or other synchronization mechanisms to protect them.\n",
        "In simpler terms, immutability makes strings more reliable, efficient, and predictable in various scenarios. It's a fundamental design decision that contributes to the overall robustness of Python.\n",
        "  \n",
        "\n",
        "\n",
        "  \n",
        "\n",
        "\n",
        "  11.What advantages do dictionaries offer over lists for certain tasks?\n",
        "  -Fast Lookups: Dictionaries use hash tables for O(1) average time complexity for lookups.\n",
        "\n",
        "Key-Value Pairs: They allow storing data in a structured way using keys.\n",
        "\n"
      ],
      "metadata": {
        "id": "jZ3PB0rZm4MB"
      }
    },
    {
      "cell_type": "markdown",
      "source": [
        "12. Describe a scenario where using a tuple would be preferable over a list?\n",
        "Use tuples when:\n",
        "\n",
        "The data should not change (e.g., constants, configurations).\n",
        "\n",
        "You need to ensure data integrity."
      ],
      "metadata": {
        "id": "MyNtpRtKoEkZ"
      }
    },
    {
      "cell_type": "code",
      "source": [
        "days_of_week = (\"Monday\", \"Tuesday\", \"Wednesday\")"
      ],
      "metadata": {
        "id": "8-mLfoJ-oVJz"
      },
      "execution_count": null,
      "outputs": []
    },
    {
      "cell_type": "markdown",
      "source": [],
      "metadata": {
        "id": "dlLazPYBoYCP"
      }
    },
    {
      "cell_type": "markdown",
      "source": [
        "13. How do sets handle duplicate values in Python?\n",
        "\n",
        "-Sets automatically remove duplicate values when created.\n"
      ],
      "metadata": {
        "id": "Yy-OT2mJpDjs"
      }
    },
    {
      "cell_type": "markdown",
      "source": [],
      "metadata": {
        "id": "9eepFeZupTBP"
      }
    },
    {
      "cell_type": "code",
      "source": [
        "my_set = {1, 2, 2, 3}\n",
        "print(my_set)  # Output: {1, 2, 3}"
      ],
      "metadata": {
        "id": "Fpcf5t7epUpQ"
      },
      "execution_count": null,
      "outputs": []
    },
    {
      "cell_type": "markdown",
      "source": [
        "14. How does the “in” keyword work differently for lists and ?\n",
        "\n",
        "-For lists, in checks each element sequentially (O(n) time complexity).\n",
        "\n",
        "For dictionaries, in checks for keys using a hash table (O(1) average time complexity)\n",
        "\n",
        "15.Can you modify the elements of a tuple? Explain why or why not?\n",
        "\n",
        "-No, tuples are immutable. Once created, their elements cannot be changed.\n",
        "\n",
        "\n",
        "16.What is a nested dictionary, and give an example of its use case?\n",
        "\n",
        "-A nested dictionary is a dictionary within another dictionary. It is useful for representing hierarchical data.\n",
        "\n"
      ],
      "metadata": {
        "id": "y15LmgH7pdvg"
      }
    },
    {
      "cell_type": "code",
      "source": [
        "student_data = {\n",
        "    \"John Doe\": {\n",
        "        \"age\": 20,\n",
        "        \"major\": \"Computer Science\",\n",
        "        \"grades\": {\"midterm\": 85, \"final\": 92}\n",
        "    },\n",
        "    \"Jane Smith\": {\n",
        "        \"age\": 22,\n",
        "        \"major\": \"Biology\",\n",
        "        \"grades\": {\"midterm\": 78, \"final\": 88}\n",
        "    }\n",
        "}\n"
      ],
      "metadata": {
        "id": "Tsqy9FIGqYOe"
      },
      "execution_count": null,
      "outputs": []
    },
    {
      "cell_type": "markdown",
      "source": [
        "17.\n",
        "Describe the time complexity of accessing elements in a dictionary?\n",
        "\n",
        "-Accessing elements in a dictionary has an average time complexity of O(1) due to the use of hash tables.\n",
        "\n",
        "\n",
        "18.In what situations are lists preferred over dictionaries?\n",
        "\n",
        "\n",
        "-se lists when:\n",
        "\n",
        "You need an ordered collection of items.\n",
        "\n",
        "You don’t need key-based access.\n",
        "\n"
      ],
      "metadata": {
        "id": "Zjv43rGIqcez"
      }
    },
    {
      "cell_type": "markdown",
      "source": [
        "19. Why are dictionaries considered unordered, and how does that affect data retrieval?\n",
        "\n",
        "-In Python versions before 3.7, dictionaries were unordered. From Python 3.7+, dictionaries maintain insertion order, but they are still primarily designed for key-based access rather than order.\n",
        "\n"
      ],
      "metadata": {
        "id": "bnk5mus0rTLy"
      }
    },
    {
      "cell_type": "markdown",
      "source": [
        "20.Explain the difference between a list and a dictionary in terms of data retrieval?\n",
        "\n",
        "-Lists: Retrieve data by index (O(1) for access by index, O(n) for searching).\n",
        "\n",
        "Dictionaries: Retrieve data by key (O(1) average time complexity).\n"
      ],
      "metadata": {
        "id": "R5upCxxxrnnr"
      }
    },
    {
      "cell_type": "code",
      "source": [
        "my_list = [10, 20, 30]\n",
        "print(my_list[0])  # Output: 10\n",
        "\n",
        "my_dict = {\"a\": 10, \"b\": 20}\n",
        "print(my_dict[\"a\"])  # Output: 10"
      ],
      "metadata": {
        "id": "w5-G9wPirzhZ"
      },
      "execution_count": null,
      "outputs": []
    },
    {
      "cell_type": "code",
      "source": [
        " #PRACTICAL QUESTIONS #\n"
      ],
      "metadata": {
        "id": "kR2hePndQoY7"
      },
      "execution_count": null,
      "outputs": []
    },
    {
      "cell_type": "markdown",
      "source": [
        "PRACTICAL QUESTIONS\n",
        "\n",
        "\n",
        "\n",
        "1.Write a code to create a string with your name and print IT ?"
      ],
      "metadata": {
        "id": "ziOi4h4AQm1t"
      }
    },
    {
      "cell_type": "code",
      "source": [
        "name = \"ayush\"\n",
        "print(name)"
      ],
      "metadata": {
        "colab": {
          "base_uri": "https://localhost:8080/"
        },
        "id": "w4UrCPUdRO40",
        "outputId": "c835163c-6380-4489-cdaf-3babc26300bb"
      },
      "execution_count": null,
      "outputs": [
        {
          "output_type": "stream",
          "name": "stdout",
          "text": [
            "ayush\n"
          ]
        }
      ]
    },
    {
      "cell_type": "markdown",
      "source": [],
      "metadata": {
        "id": "Osy-m7QzRp6k"
      }
    },
    {
      "cell_type": "markdown",
      "source": [
        "2.Write a code to find the length of the string \"Hello World\"?\n"
      ],
      "metadata": {
        "id": "Hou6yLgTRtje"
      }
    },
    {
      "cell_type": "code",
      "source": [
        "string=\"hello world\"\n",
        "length=len(string)\n",
        "print(length)"
      ],
      "metadata": {
        "colab": {
          "base_uri": "https://localhost:8080/"
        },
        "id": "F0bxIs4JR6Mt",
        "outputId": "ef6cb22e-c46b-41fb-e523-146872705bc1"
      },
      "execution_count": null,
      "outputs": [
        {
          "output_type": "stream",
          "name": "stdout",
          "text": [
            "11\n"
          ]
        }
      ]
    },
    {
      "cell_type": "markdown",
      "source": [
        "3.Write a code to slice the first 3 characters from the string \"Python Programming\"?"
      ],
      "metadata": {
        "id": "scuXe_6NSQJs"
      }
    },
    {
      "cell_type": "code",
      "source": [
        "string = \"python programming\"\n",
        "sliced_string = string[0:3]\n",
        "print(sliced_string)"
      ],
      "metadata": {
        "colab": {
          "base_uri": "https://localhost:8080/"
        },
        "id": "6SNwNrqVSnlF",
        "outputId": "ccda9132-2389-490a-eac2-e315105e8cc1"
      },
      "execution_count": null,
      "outputs": [
        {
          "output_type": "stream",
          "name": "stdout",
          "text": [
            "pyt\n"
          ]
        }
      ]
    },
    {
      "cell_type": "markdown",
      "source": [
        "4. Write a code to convert the string \"hello\" to uppercase?\n",
        "\n"
      ],
      "metadata": {
        "id": "5YW1Fo44UTJ0"
      }
    },
    {
      "cell_type": "code",
      "source": [
        "string=\"hell0\"\n",
        "uppercase_string=string.upper()\n",
        "print(uppercase_string)"
      ],
      "metadata": {
        "colab": {
          "base_uri": "https://localhost:8080/"
        },
        "id": "_j1YOWdUU46z",
        "outputId": "47d64a03-64cb-40e3-b768-3a6eb6f86eff"
      },
      "execution_count": null,
      "outputs": [
        {
          "output_type": "stream",
          "name": "stdout",
          "text": [
            "HELL0\n"
          ]
        }
      ]
    },
    {
      "cell_type": "markdown",
      "source": [
        "5.Write a code to replace the word \"apple\" with \"orange\" in the string \"I like apple?\n"
      ],
      "metadata": {
        "id": "fr_bxahnVAvG"
      }
    },
    {
      "cell_type": "code",
      "source": [
        "string=\"i like apple\"\n",
        "new_string=string.replace(\"apple\",\"orange\")\n",
        "print(new_string)"
      ],
      "metadata": {
        "colab": {
          "base_uri": "https://localhost:8080/"
        },
        "id": "hlar-GRTV2Vb",
        "outputId": "7554ee67-49f7-446d-976f-4f253d187ac0"
      },
      "execution_count": null,
      "outputs": [
        {
          "output_type": "stream",
          "name": "stdout",
          "text": [
            "i like orange\n"
          ]
        }
      ]
    },
    {
      "cell_type": "markdown",
      "source": [
        "6.Write a code to create a list with numbers 1 to 5 and print it?\n",
        "\n"
      ],
      "metadata": {
        "id": "Wit62IU5WQX8"
      }
    },
    {
      "cell_type": "code",
      "source": [
        "list=[1,2,3,4,5]\n",
        "print(list)"
      ],
      "metadata": {
        "colab": {
          "base_uri": "https://localhost:8080/"
        },
        "id": "Iihqic2_WjK9",
        "outputId": "9fe39a61-95e9-45b1-a107-1d12797fb6b7"
      },
      "execution_count": null,
      "outputs": [
        {
          "output_type": "stream",
          "name": "stdout",
          "text": [
            "[1, 2, 3, 4, 5]\n"
          ]
        }
      ]
    },
    {
      "cell_type": "markdown",
      "source": [
        "7. Write a code to append the number 10 to the list [1, 2, 3, 4].\n",
        "\n"
      ],
      "metadata": {
        "id": "BYv3MGY2Wpbk"
      }
    },
    {
      "cell_type": "code",
      "source": [
        "list=[1,2,3,4]\n",
        "list.append(10)\n",
        "print(list)"
      ],
      "metadata": {
        "colab": {
          "base_uri": "https://localhost:8080/"
        },
        "id": "NDzadZrlWz9q",
        "outputId": "aac6d88f-6ebd-4fb8-e64e-6796eded36d1"
      },
      "execution_count": null,
      "outputs": [
        {
          "output_type": "stream",
          "name": "stdout",
          "text": [
            "[1, 2, 3, 4, 10]\n"
          ]
        }
      ]
    },
    {
      "cell_type": "markdown",
      "source": [
        "8.Write a code to remove the number 3 from the list [1, 2, 3, 4, 5]?\n"
      ],
      "metadata": {
        "id": "AQjngC6hW9QS"
      }
    },
    {
      "cell_type": "code",
      "source": [
        "list=[1,2,3,4,5]\n",
        "list.remove(3)\n",
        "print(list)"
      ],
      "metadata": {
        "colab": {
          "base_uri": "https://localhost:8080/"
        },
        "id": "zLLXDLswXNAa",
        "outputId": "7b933ebf-5f27-4891-a178-74bd284e8b4f"
      },
      "execution_count": null,
      "outputs": [
        {
          "output_type": "stream",
          "name": "stdout",
          "text": [
            "[1, 2, 4, 5]\n"
          ]
        }
      ]
    },
    {
      "cell_type": "markdown",
      "source": [
        "9.Write a code to access the second element in the list ['a', 'b', 'c', 'd'].\n"
      ],
      "metadata": {
        "id": "27f5ZM6PXZx1"
      }
    },
    {
      "cell_type": "code",
      "source": [
        "my_list=['a','b','c','d']\n",
        "second_element=my_list[1]\n",
        "print(second_element)"
      ],
      "metadata": {
        "colab": {
          "base_uri": "https://localhost:8080/"
        },
        "id": "HcrKvxr-Xety",
        "outputId": "9fa15bd0-581f-4912-8738-8b12d76b8f6b"
      },
      "execution_count": null,
      "outputs": [
        {
          "output_type": "stream",
          "name": "stdout",
          "text": [
            "b\n"
          ]
        }
      ]
    },
    {
      "cell_type": "markdown",
      "source": [
        "10.Write a code to reverse the list [10, 20, 30, 40, 50].\n"
      ],
      "metadata": {
        "id": "Tm_7ZXnwX4vk"
      }
    },
    {
      "cell_type": "code",
      "source": [
        "list=[10,20,30,40,50]\n",
        "revewsed_list=list[::-1]\n",
        "print(revewsed_list)"
      ],
      "metadata": {
        "colab": {
          "base_uri": "https://localhost:8080/"
        },
        "id": "k7bt_UehX9yJ",
        "outputId": "02548fe8-519a-492c-f6f5-3648356eb9d3"
      },
      "execution_count": null,
      "outputs": [
        {
          "output_type": "stream",
          "name": "stdout",
          "text": [
            "[50, 40, 30, 20, 10]\n"
          ]
        }
      ]
    },
    {
      "cell_type": "markdown",
      "source": [
        "11.. Write a code to create a tuple with the elements 100, 200, 300 and print it.\n"
      ],
      "metadata": {
        "id": "DmbFC_5lYrDD"
      }
    },
    {
      "cell_type": "code",
      "source": [
        "tuple = (100,200,300)\n",
        "print(tuple)\n"
      ],
      "metadata": {
        "colab": {
          "base_uri": "https://localhost:8080/"
        },
        "id": "bLnSNf23Ywgu",
        "outputId": "08cbd94b-bd69-49aa-b3e6-6c5c30a05cc3"
      },
      "execution_count": null,
      "outputs": [
        {
          "output_type": "stream",
          "name": "stdout",
          "text": [
            "(100, 200, 300)\n"
          ]
        }
      ]
    },
    {
      "cell_type": "markdown",
      "source": [
        "12.Write a code to access the second-to-last element of the tuple ('red', 'green', 'blue', 'yellow')."
      ],
      "metadata": {
        "id": "jp-AgzNXZMrr"
      }
    },
    {
      "cell_type": "code",
      "source": [
        "colors = ('red', 'green', 'blue', 'yellow')\n",
        "second_to_last = colors[-2]\n",
        "print(second_to_last)"
      ],
      "metadata": {
        "colab": {
          "base_uri": "https://localhost:8080/"
        },
        "id": "hAYDT--XZRYM",
        "outputId": "2de43332-3797-459f-8e6e-831998d7c6b5"
      },
      "execution_count": null,
      "outputs": [
        {
          "output_type": "stream",
          "name": "stdout",
          "text": [
            "blue\n"
          ]
        }
      ]
    },
    {
      "cell_type": "markdown",
      "source": [
        "13.Write a code to find the minimum number in the tuple (10, 20, 5, 15)."
      ],
      "metadata": {
        "id": "wTib8zzoZc6r"
      }
    },
    {
      "cell_type": "code",
      "source": [
        "numbers = (10, 20, 5, 15)\n",
        "min_number = min(numbers)\n",
        "print(min_number)"
      ],
      "metadata": {
        "colab": {
          "base_uri": "https://localhost:8080/"
        },
        "id": "6-3MrcFLZhHS",
        "outputId": "3bebe205-0a66-495c-f1ba-4383e246c5f1"
      },
      "execution_count": null,
      "outputs": [
        {
          "output_type": "stream",
          "name": "stdout",
          "text": [
            "5\n"
          ]
        }
      ]
    },
    {
      "cell_type": "markdown",
      "source": [
        "14.Write a code to find the index of the element \"cat\" in the tuple ('dog', 'cat', 'rabbit').\n"
      ],
      "metadata": {
        "id": "usFwSD4bZqst"
      }
    },
    {
      "cell_type": "code",
      "source": [
        "animals = ('dog', 'cat', 'rabbit')\n",
        "index = animals.index('cat')\n",
        "print(index)"
      ],
      "metadata": {
        "colab": {
          "base_uri": "https://localhost:8080/"
        },
        "id": "ZoEHwiqmZzDG",
        "outputId": "a0953fcb-61d8-4e92-a1be-821f4d90957b"
      },
      "execution_count": null,
      "outputs": [
        {
          "output_type": "stream",
          "name": "stdout",
          "text": [
            "1\n"
          ]
        }
      ]
    },
    {
      "cell_type": "markdown",
      "source": [
        " 15.write a code to create a tuple containing three different fruits and check if \"kiwi\" is in it."
      ],
      "metadata": {
        "id": "MXfGq96SaCRU"
      }
    },
    {
      "cell_type": "code",
      "source": [
        "fruits = ('apple', 'banana', 'orange')\n",
        "is_kiwi_in_fruits = 'kiwi' in fruits\n",
        "print(is_kiwi_in_fruits)"
      ],
      "metadata": {
        "colab": {
          "base_uri": "https://localhost:8080/"
        },
        "id": "xVPkKwtqaFYn",
        "outputId": "a24bf263-d041-4815-cfef-e7f08600edc6"
      },
      "execution_count": null,
      "outputs": [
        {
          "output_type": "stream",
          "name": "stdout",
          "text": [
            "False\n"
          ]
        }
      ]
    },
    {
      "cell_type": "markdown",
      "source": [
        "16. Write a code to create a set with the elements 'a', 'b', 'c' and print it."
      ],
      "metadata": {
        "id": "kVHIJnefIQ28"
      }
    },
    {
      "cell_type": "markdown",
      "source": [],
      "metadata": {
        "id": "nEGz737nIUoN"
      }
    },
    {
      "cell_type": "code",
      "source": [
        "my_set = {'a', 'b', 'c'}\n",
        "print(my_set)\n"
      ],
      "metadata": {
        "colab": {
          "base_uri": "https://localhost:8080/"
        },
        "id": "WsllREPqIU-8",
        "outputId": "a16c3d54-2f39-4b5b-d300-0c412d65a1fa"
      },
      "execution_count": 1,
      "outputs": [
        {
          "output_type": "stream",
          "name": "stdout",
          "text": [
            "{'c', 'a', 'b'}\n"
          ]
        }
      ]
    },
    {
      "cell_type": "markdown",
      "source": [
        "17. Write a code to clear all elements from the set {1, 2, 3, 4, 5}."
      ],
      "metadata": {
        "id": "0gKQf2xuIj_D"
      }
    },
    {
      "cell_type": "code",
      "source": [
        "my_set = {1, 2, 3, 4, 5}\n",
        "my_set.clear()\n",
        "print(my_set)"
      ],
      "metadata": {
        "colab": {
          "base_uri": "https://localhost:8080/"
        },
        "id": "ojSM0wBzIVAp",
        "outputId": "3941e8bc-bf16-4549-8457-4d8ab19b0664"
      },
      "execution_count": 2,
      "outputs": [
        {
          "output_type": "stream",
          "name": "stdout",
          "text": [
            "set()\n"
          ]
        }
      ]
    },
    {
      "cell_type": "markdown",
      "source": [
        "18. Write a code to remove the element 4 from the set {1, 2, 3, 4}.\n"
      ],
      "metadata": {
        "id": "a4Ae6q47I8yz"
      }
    },
    {
      "cell_type": "code",
      "source": [
        "my_set = {1, 2, 3, 4}\n",
        "my_set.remove(4)\n",
        "print(my_set)  # Output: {1, 2, 3}\n"
      ],
      "metadata": {
        "colab": {
          "base_uri": "https://localhost:8080/"
        },
        "id": "46NBn9LaJHVO",
        "outputId": "f6b3dfcc-ea0c-44c5-def0-e51f1a5ce0f2"
      },
      "execution_count": 3,
      "outputs": [
        {
          "output_type": "stream",
          "name": "stdout",
          "text": [
            "{1, 2, 3}\n"
          ]
        }
      ]
    },
    {
      "cell_type": "markdown",
      "source": [
        "19.Write a code to find the union of two sets {1, 2, 3} and {3, 4, 5}."
      ],
      "metadata": {
        "id": "d7sCSN5dJMJm"
      }
    },
    {
      "cell_type": "code",
      "source": [
        "set1 = {1, 2, 3}\n",
        "set2 = {3, 4, 5}\n",
        "union_set = set1.union(set2)\n",
        "print(union_set)"
      ],
      "metadata": {
        "colab": {
          "base_uri": "https://localhost:8080/"
        },
        "id": "nwFTiaNBJPht",
        "outputId": "4d05a39a-a5c1-4b2f-b74b-8fbe1c6dd463"
      },
      "execution_count": 4,
      "outputs": [
        {
          "output_type": "stream",
          "name": "stdout",
          "text": [
            "{1, 2, 3, 4, 5}\n"
          ]
        }
      ]
    },
    {
      "cell_type": "markdown",
      "source": [
        "20. Write a code to find the intersection of two sets {1, 2, 3} and {2, 3, 4}.\n"
      ],
      "metadata": {
        "id": "7wvNnY_NJWEM"
      }
    },
    {
      "cell_type": "code",
      "source": [
        "set1 = {1, 2, 3}\n",
        "set2 = {2, 3, 4}\n",
        "intersection_set = set1.intersection(set2)\n",
        "print(intersection_set)  # Output: {2, 3}"
      ],
      "metadata": {
        "colab": {
          "base_uri": "https://localhost:8080/"
        },
        "id": "TU7gRQh_Jced",
        "outputId": "8569a285-1a02-4db7-f4ab-d6f142eba9f5"
      },
      "execution_count": 5,
      "outputs": [
        {
          "output_type": "stream",
          "name": "stdout",
          "text": [
            "{2, 3}\n"
          ]
        }
      ]
    },
    {
      "cell_type": "markdown",
      "source": [
        "21.1. Write a code to create a dictionary with the keys \"name\", \"age\", and \"city\", and print it"
      ],
      "metadata": {
        "id": "tAIu3H89Jlvs"
      }
    },
    {
      "cell_type": "code",
      "source": [
        "my_dict = {\"name\": \"John\", \"age\": 25, \"city\": \"New York\"}\n",
        "print(my_dict)"
      ],
      "metadata": {
        "id": "id2cNw8MJpvV"
      },
      "execution_count": null,
      "outputs": []
    },
    {
      "cell_type": "markdown",
      "source": [
        "22. Write a code to add a new key-value pair \"country\": \"USA\" to the dictionary {'name': 'John', 'age': 25}"
      ],
      "metadata": {
        "id": "_o_Z3rAmJtOj"
      }
    },
    {
      "cell_type": "code",
      "source": [
        "my_dict = {'name': 'John', 'age': 25}\n",
        "my_dict[\"country\"] = \"USA\"\n",
        "print(my_dict)  # Output: {'name': 'John', 'age': 25, 'country': 'USA'}"
      ],
      "metadata": {
        "id": "6PvXAIohJw6_"
      },
      "execution_count": null,
      "outputs": []
    },
    {
      "cell_type": "markdown",
      "source": [
        "23. Write a code to access the value associated with the key \"name\" in the dictionary {'name': 'Alice', 'age': 30}."
      ],
      "metadata": {
        "id": "vXh--AdDJ2QV"
      }
    },
    {
      "cell_type": "code",
      "source": [
        "my_dict = {'name': 'Alice', 'age': 30}\n",
        "value = my_dict[\"name\"]\n",
        "print(value)  # Output: Alice"
      ],
      "metadata": {
        "colab": {
          "base_uri": "https://localhost:8080/"
        },
        "id": "aN7m3_t7J46m",
        "outputId": "cae4a025-387b-4a65-c85f-8dd026ed4558"
      },
      "execution_count": 6,
      "outputs": [
        {
          "output_type": "stream",
          "name": "stdout",
          "text": [
            "Alice\n"
          ]
        }
      ]
    },
    {
      "cell_type": "markdown",
      "source": [
        "24.Write a code to remove the key \"age\" from the dictionary {'name': 'Bob', 'age': 22, 'city': 'New York'}"
      ],
      "metadata": {
        "id": "f0UTEfQgJ-8d"
      }
    },
    {
      "cell_type": "code",
      "source": [
        "my_dict = {'name': 'Bob', 'age': 22, 'city': 'New York'}\n",
        "del my_dict[\"age\"]\n",
        "print(my_dict)  # Output: {'name': 'Bob', 'city': 'New York'}"
      ],
      "metadata": {
        "id": "Ph3mHFmJKG4t"
      },
      "execution_count": null,
      "outputs": []
    },
    {
      "cell_type": "markdown",
      "source": [
        "25. Write a code to check if the key \"city\" exists in the dictionary {'name': 'Alice', 'city': 'Paris'}."
      ],
      "metadata": {
        "id": "T4_plnExKQhf"
      }
    },
    {
      "cell_type": "code",
      "source": [
        "my_dict = {'name': 'Alice', 'city': 'Paris'}\n",
        "if \"city\" in my_dict:\n",
        "    print(\"Key exists!\")  # Output: Key exists!\n",
        "else:\n",
        "    print(\"Key does not exist.\")"
      ],
      "metadata": {
        "colab": {
          "base_uri": "https://localhost:8080/"
        },
        "id": "b_yYpG-QKT6z",
        "outputId": "e463020b-e1b0-499e-bcbf-c9e8c783d7cd"
      },
      "execution_count": 7,
      "outputs": [
        {
          "output_type": "stream",
          "name": "stdout",
          "text": [
            "Key exists!\n"
          ]
        }
      ]
    },
    {
      "cell_type": "markdown",
      "source": [
        "26.Write a code to create a list, a tuple, and a dictionary, and print them all"
      ],
      "metadata": {
        "id": "B53gkMgFKc7V"
      }
    },
    {
      "cell_type": "code",
      "source": [
        "my_list = [1, 2, 3]\n",
        "my_tuple = (4, 5, 6)\n",
        "my_dict = {\"name\": \"John\", \"age\": 25}\n",
        "\n",
        "print(\"List:\", my_list)\n",
        "print(\"Tuple:\", my_tuple)\n",
        "print(\"Dictionary:\", my_dict)"
      ],
      "metadata": {
        "id": "N-3bUq_7Klsd"
      },
      "execution_count": null,
      "outputs": []
    },
    {
      "cell_type": "markdown",
      "source": [
        "27.Write a code to create a list of 5 random numbers between 1 and 100, sort it in ascending order, and print the\n",
        "result.(replaced)"
      ],
      "metadata": {
        "id": "GyF5tRF2KoDe"
      }
    },
    {
      "cell_type": "code",
      "source": [
        "import random\n",
        "\n",
        "random_numbers = [random.randint(1, 100) for _ in range(5)]\n",
        "random_numbers.sort()\n",
        "print(random_numbers)"
      ],
      "metadata": {
        "colab": {
          "base_uri": "https://localhost:8080/"
        },
        "id": "hRkgTY-WKssu",
        "outputId": "349c5570-51a4-45be-86ed-87c51f816a98"
      },
      "execution_count": 8,
      "outputs": [
        {
          "output_type": "stream",
          "name": "stdout",
          "text": [
            "[1, 9, 49, 71, 98]\n"
          ]
        }
      ]
    },
    {
      "cell_type": "markdown",
      "source": [
        "28.Write a code to create a list with strings and print the element at the third index."
      ],
      "metadata": {
        "id": "Br12kSIpK3uF"
      }
    },
    {
      "cell_type": "code",
      "source": [
        "my_list = [\"apple\", \"banana\", \"cherry\", \"date\", \"elderberry\"]\n",
        "print(my_list[3])  # Output: date"
      ],
      "metadata": {
        "id": "z6XsetcRK8h9"
      },
      "execution_count": null,
      "outputs": []
    },
    {
      "cell_type": "markdown",
      "source": [
        "29.. Write a code to combine two dictionaries into one and print the result.\n"
      ],
      "metadata": {
        "id": "N5ntWRlNLAWV"
      }
    },
    {
      "cell_type": "code",
      "source": [
        "dict1 = {'a': 1, 'b': 2}\n",
        "dict2 = {'c': 3, 'd': 4}\n",
        "combined_dict = {**dict1, **dict2}\n",
        "print(combined_dict)  # Output: {'a': 1, 'b': 2, 'c': 3, 'd': 4}"
      ],
      "metadata": {
        "id": "BUgVF8kgLF51"
      },
      "execution_count": null,
      "outputs": []
    },
    {
      "cell_type": "markdown",
      "source": [
        "30.. Write a code to convert a list of strings into a set."
      ],
      "metadata": {
        "id": "Www2sCpcLK6k"
      }
    },
    {
      "cell_type": "code",
      "source": [
        "my_list = [\"apple\", \"banana\", \"cherry\", \"apple\"]\n",
        "my_set = set(my_list)\n",
        "print(my_set)  # Output: {'apple', 'banana', 'cherry'}"
      ],
      "metadata": {
        "colab": {
          "base_uri": "https://localhost:8080/"
        },
        "id": "WJHKbKU0LP8e",
        "outputId": "16bcb93c-0c5a-4aea-da82-14ff8355f20c"
      },
      "execution_count": 9,
      "outputs": [
        {
          "output_type": "stream",
          "name": "stdout",
          "text": [
            "{'banana', 'apple', 'cherry'}\n"
          ]
        }
      ]
    }
  ]
}